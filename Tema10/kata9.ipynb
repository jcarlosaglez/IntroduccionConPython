{
 "cells": [
  {
   "cell_type": "markdown",
   "metadata": {},
   "source": [
    "# Ejercicio 1"
   ]
  },
  {
   "cell_type": "code",
   "execution_count": 15,
   "metadata": {},
   "outputs": [],
   "source": [
    "def myFunc(tanque1, tanque2, tanque3): \n",
    "\treturn f\"\"\"El tanque 1 contiene: {tanque1}\n",
    "El tanque 2 contiene: {tanque2}\n",
    "El tanque 3 contiene: {tanque3}\n",
    "El promedio de combustible es {(tanque1 + tanque2 + tanque3) / 3}\"\"\""
   ]
  },
  {
   "cell_type": "code",
   "execution_count": 16,
   "metadata": {},
   "outputs": [
    {
     "name": "stdout",
     "output_type": "stream",
     "text": [
      "El tanque 1 contiene: 10\n",
      "El tanque 2 contiene: 9\n",
      "El tanque 3 contiene: 8\n",
      "El promedio de combustible es 9.0\n"
     ]
    }
   ],
   "source": [
    "print(myFunc(10,9,8))"
   ]
  },
  {
   "cell_type": "code",
   "execution_count": 20,
   "metadata": {},
   "outputs": [],
   "source": [
    "def promedio(tanques):\n",
    "\treturn sum(tanques) / len(tanques) "
   ]
  },
  {
   "cell_type": "code",
   "execution_count": 21,
   "metadata": {},
   "outputs": [
    {
     "name": "stdout",
     "output_type": "stream",
     "text": [
      "El tanque 1 contiene: 15\n",
      "El tanque 2 contiene: 14\n",
      "El tanque 3 contiene: 13\n",
      "El promedio de combustible es 14.0\n"
     ]
    }
   ],
   "source": [
    "def myFunc2(tanque1, tanque2, tanque3): \n",
    "\treturn f\"\"\"El tanque 1 contiene: {tanque1}\n",
    "El tanque 2 contiene: {tanque2}\n",
    "El tanque 3 contiene: {tanque3}\n",
    "El promedio de combustible es {promedio([tanque1, tanque2, tanque3])}\"\"\"\n",
    "\n",
    "print(myFunc2(15, 14, 13))"
   ]
  },
  {
   "cell_type": "markdown",
   "metadata": {},
   "source": [
    "# Ejercicio 2"
   ]
  },
  {
   "cell_type": "code",
   "execution_count": 23,
   "metadata": {},
   "outputs": [
    {
     "name": "stdout",
     "output_type": "stream",
     "text": [
      "Hora de prelanzamiento: 14\n",
      "Tiempo de vuelo: 51\n",
      "Tiempo total: 65\n",
      "Destino: Moon\n",
      "Tanque externo: 200000\n",
      "Tanque interno: 300000\n"
     ]
    }
   ],
   "source": [
    "# Función con un informe preciso de la misión. Considera hora de prelanzamiento, tiempo de vuelo, destino, tanque externo y tanque interno\n",
    "def detalles(horaPrelanzamiento, tiempoVuelo, destino, tanqueExterno, tanqueInterno):\n",
    "\treturn f\"\"\"Hora de prelanzamiento: {horaPrelanzamiento}\n",
    "Tiempo de vuelo: {tiempoVuelo}\n",
    "Tiempo total: {horaPrelanzamiento + tiempoVuelo}\n",
    "Destino: {destino}\n",
    "Tanque externo: {tanqueExterno}\n",
    "Tanque interno: {tanqueInterno}\"\"\"\n",
    "\n",
    "print(detalles(14, 51, \"Moon\", 200000, 300000))"
   ]
  },
  {
   "cell_type": "code",
   "execution_count": 27,
   "metadata": {},
   "outputs": [
    {
     "name": "stdout",
     "output_type": "stream",
     "text": [
      "Destino: Moon\n",
      "Tiempo total: 76\n",
      "Combustible total: 500000\n"
     ]
    }
   ],
   "source": [
    "def detalles2(destino, *minutes, **fuelReservoirs):\n",
    "\treturn f\"\"\"Destino: {destino}\n",
    "Tiempo total: {sum(minutes)}\n",
    "Combustible total: {sum(fuelReservoirs.values())}\"\"\"\n",
    "\n",
    "print(detalles2(\"Moon\", 10, 15, 51, tanqueExterno=300000, tanqueInterno=200000))"
   ]
  },
  {
   "cell_type": "code",
   "execution_count": 31,
   "metadata": {},
   "outputs": [
    {
     "name": "stdout",
     "output_type": "stream",
     "text": [
      "Destino: Moon\n",
      "Tiempo total: 76\n",
      "Combustible total: 500000\n",
      "tanqueExterno contiene 300000 galones de combustible\n",
      "tanqueInterno contiene 200000 galones de combustible\n",
      "\n"
     ]
    }
   ],
   "source": [
    "def detalles3(destino, *minutes, **fuelReservoirs):\n",
    "\treporte = f\"\"\"Destino: {destino}\n",
    "Tiempo total: {sum(minutes)}\n",
    "Combustible total: {sum(fuelReservoirs.values())}\n",
    "\"\"\"\n",
    "\tfor nombreTanque, contenido in fuelReservoirs.items():\n",
    "\t\treporte += f\"{nombreTanque} contiene {contenido} galones de combustible\\n\"\n",
    "\treturn reporte\n",
    "\n",
    "print(detalles3(\"Moon\", 10, 15, 51, tanqueExterno=300000, tanqueInterno=200000))"
   ]
  }
 ],
 "metadata": {
  "interpreter": {
   "hash": "f6adc4aa0776d301271030e4867bb375eeb831bf4bb279863964d1fdc6f5390b"
  },
  "kernelspec": {
   "display_name": "Python 3.8.10 64-bit (windows store)",
   "language": "python",
   "name": "python3"
  },
  "language_info": {
   "codemirror_mode": {
    "name": "ipython",
    "version": 3
   },
   "file_extension": ".py",
   "mimetype": "text/x-python",
   "name": "python",
   "nbconvert_exporter": "python",
   "pygments_lexer": "ipython3",
   "version": "3.8.10"
  },
  "orig_nbformat": 4
 },
 "nbformat": 4,
 "nbformat_minor": 2
}
