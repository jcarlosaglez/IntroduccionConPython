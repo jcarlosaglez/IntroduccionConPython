{
 "cells": [
  {
   "cell_type": "markdown",
   "metadata": {},
   "source": [
    "# Operadores en Python"
   ]
  },
  {
   "cell_type": "code",
   "execution_count": 3,
   "metadata": {},
   "outputs": [
    {
     "name": "stdout",
     "output_type": "stream",
     "text": [
      "42\n"
     ]
    }
   ],
   "source": [
    "# suma -> +\n",
    "answer = 30 + 12\n",
    "print(answer)"
   ]
  },
  {
   "cell_type": "code",
   "execution_count": 4,
   "metadata": {},
   "outputs": [
    {
     "name": "stdout",
     "output_type": "stream",
     "text": [
      "18\n"
     ]
    }
   ],
   "source": [
    "# Diferencia o resta -> -\n",
    "difference = 30 - 12\n",
    "print(difference)"
   ]
  },
  {
   "cell_type": "code",
   "execution_count": 5,
   "metadata": {},
   "outputs": [
    {
     "name": "stdout",
     "output_type": "stream",
     "text": [
      "360\n"
     ]
    }
   ],
   "source": [
    "# Multiplicación -> *\n",
    "product = 30 * 12\n",
    "print(product)"
   ]
  },
  {
   "cell_type": "code",
   "execution_count": 6,
   "metadata": {},
   "outputs": [
    {
     "name": "stdout",
     "output_type": "stream",
     "text": [
      "2.5\n"
     ]
    }
   ],
   "source": [
    "# División -> /\n",
    "quotient = 30 / 12\n",
    "print(quotient)"
   ]
  },
  {
   "cell_type": "code",
   "execution_count": 7,
   "metadata": {},
   "outputs": [
    {
     "name": "stdout",
     "output_type": "stream",
     "text": [
      "17.366666666666667\n"
     ]
    }
   ],
   "source": [
    "# Sobre la división\n",
    "seconds = 1042\n",
    "displayMinutes = seconds / 60\n",
    "print(displayMinutes)"
   ]
  },
  {
   "cell_type": "code",
   "execution_count": 8,
   "metadata": {},
   "outputs": [
    {
     "name": "stdout",
     "output_type": "stream",
     "text": [
      "17\n"
     ]
    }
   ],
   "source": [
    "displayMinutes = seconds // 60 # Doble signo de división redondesa hacia abajo\n",
    "print(displayMinutes)"
   ]
  },
  {
   "cell_type": "code",
   "execution_count": 10,
   "metadata": {},
   "outputs": [
    {
     "name": "stdout",
     "output_type": "stream",
     "text": [
      "22\n"
     ]
    }
   ],
   "source": [
    "# Módulo o residuo de división -> %\n",
    "displaySeconds = seconds % 60\n",
    "print(displaySeconds)"
   ]
  },
  {
   "cell_type": "markdown",
   "metadata": {},
   "source": [
    "## Jerarquía de operaciones\n",
    "1.- Paréntesis\n",
    "2.- Exponentes\n",
    "3.- Multiplicación y división\n",
    "4.- Suma y resta"
   ]
  },
  {
   "cell_type": "code",
   "execution_count": 13,
   "metadata": {},
   "outputs": [
    {
     "name": "stdout",
     "output_type": "stream",
     "text": [
      "1084\n",
      "1084\n"
     ]
    }
   ],
   "source": [
    "result_1 = 1032 + 26 * 2\n",
    "result_2 = 1032 + (26 * 2) # Se recomienda utilizar paréntesis para comprender mejor el código\n",
    "print(result_1)\n",
    "print(result_2)"
   ]
  },
  {
   "cell_type": "markdown",
   "metadata": {},
   "source": [
    "## Números en Python"
   ]
  },
  {
   "cell_type": "code",
   "execution_count": 21,
   "metadata": {},
   "outputs": [
    {
     "name": "stdout",
     "output_type": "stream",
     "text": [
      "215\n",
      "215.3\n",
      "23\n",
      "-23\n",
      "23\n",
      "23\n",
      "14\n",
      "14\n",
      "15\n"
     ]
    }
   ],
   "source": [
    "# Cuando un usuario ingresa un valor esté será recibido en formato de string, para poder utilizarlo se tiene que convertir con el metodo int() o float()\n",
    "\n",
    "demo_int = int('215')\n",
    "print(demo_int)\n",
    "demo_float = float('215.3')\n",
    "print(demo_float)\n",
    "\n",
    "# Para obtener un valor absoluto se utiliza la funcipon abs()\n",
    "print(39 - 16)\n",
    "print(16 - 39)\n",
    "print(abs(39 - 16))\n",
    "print(abs(16 - 39))\n",
    "\n",
    "# Redondeo -> round() valor <= 5 reodondea hacía abajo, de lo contrario hacia arriba\n",
    "print(round(14.49))\n",
    "print(round(14.5))\n",
    "print(round(14.51))"
   ]
  },
  {
   "cell_type": "markdown",
   "metadata": {},
   "source": [
    "## Biblioteca Math\n",
    "Esta biblioteca tiene numerosas funciones para trabajar con numeros, ej. floor() y ceil()"
   ]
  },
  {
   "cell_type": "code",
   "execution_count": 22,
   "metadata": {},
   "outputs": [
    {
     "name": "stdout",
     "output_type": "stream",
     "text": [
      "13\n",
      "12\n"
     ]
    }
   ],
   "source": [
    "from math import ceil, floor\n",
    "\n",
    "round_up = ceil(12.5)\n",
    "print(round_up)\n",
    "\n",
    "round_down = floor(12.5)\n",
    "print(round_down)"
   ]
  }
 ],
 "metadata": {
  "interpreter": {
   "hash": "f6adc4aa0776d301271030e4867bb375eeb831bf4bb279863964d1fdc6f5390b"
  },
  "kernelspec": {
   "display_name": "Python 3.8.10 64-bit (windows store)",
   "language": "python",
   "name": "python3"
  },
  "language_info": {
   "codemirror_mode": {
    "name": "ipython",
    "version": 3
   },
   "file_extension": ".py",
   "mimetype": "text/x-python",
   "name": "python",
   "nbconvert_exporter": "python",
   "pygments_lexer": "ipython3",
   "version": "3.8.10"
  },
  "orig_nbformat": 4
 },
 "nbformat": 4,
 "nbformat_minor": 2
}
