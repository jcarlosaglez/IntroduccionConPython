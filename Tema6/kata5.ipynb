{
 "cells": [
  {
   "cell_type": "markdown",
   "metadata": {},
   "source": [
    "Ejercicio 1"
   ]
  },
  {
   "cell_type": "code",
   "execution_count": 5,
   "metadata": {},
   "outputs": [],
   "source": [
    "# Crear las variables\n",
    "tierra = 149597870 # km\n",
    "jupiter = 778547200 # km"
   ]
  },
  {
   "cell_type": "code",
   "execution_count": 8,
   "metadata": {},
   "outputs": [
    {
     "name": "stdout",
     "output_type": "stream",
     "text": [
      "La distancia entre la Tierra y Jupiter es de 628949330 km o 390577534 millas\n"
     ]
    }
   ],
   "source": [
    "distanciaEntrePlanetas = abs(tierra - jupiter)\n",
    "distanciaEntrePlanetasEnMillas = round(distanciaEntrePlanetas * 0.621)\n",
    "\n",
    "print('La distancia entre la Tierra y Jupiter es de {distanciaEntrePlanetas} km o {distanciaEntrePlanetasEnMillas} millas'.format(distanciaEntrePlanetas = distanciaEntrePlanetas, distanciaEntrePlanetasEnMillas = distanciaEntrePlanetasEnMillas))"
   ]
  },
  {
   "cell_type": "markdown",
   "metadata": {},
   "source": [
    "## Ejercicio 2"
   ]
  },
  {
   "cell_type": "code",
   "execution_count": 9,
   "metadata": {},
   "outputs": [
    {
     "name": "stdout",
     "output_type": "stream",
     "text": [
      "Introduce la distancia del sol a dos planetas.\n",
      "La distancia entre el planeta 1 y 2 es de 50300000 km o 31236300 millas\n"
     ]
    }
   ],
   "source": [
    "# Almacenar entradas de usuario\n",
    "print('Introduce la distancia del sol a dos planetas.')\n",
    "planeta1 = input('Distancia del sol al planeta 1:')\n",
    "planeta2 = input('Distancia del sol al planeta 2:')\n",
    "\n",
    "planeta1 = int(planeta1)\n",
    "planeta2 = int(planeta2)\n",
    "\n",
    "distanciaEntrePlanetas = abs(planeta1 - planeta2)\n",
    "distanciaEntrePlanetasEnMillas = round(distanciaEntrePlanetas * 0.621)\n",
    "\n",
    "print('La distancia entre el planeta 1 y 2 es de {distanciaEntrePlanetas} km o {distanciaEntrePlanetasEnMillas} millas'.format(distanciaEntrePlanetas = distanciaEntrePlanetas, distanciaEntrePlanetasEnMillas = distanciaEntrePlanetasEnMillas))"
   ]
  }
 ],
 "metadata": {
  "interpreter": {
   "hash": "f6adc4aa0776d301271030e4867bb375eeb831bf4bb279863964d1fdc6f5390b"
  },
  "kernelspec": {
   "display_name": "Python 3.8.10 64-bit (windows store)",
   "language": "python",
   "name": "python3"
  },
  "language_info": {
   "codemirror_mode": {
    "name": "ipython",
    "version": 3
   },
   "file_extension": ".py",
   "mimetype": "text/x-python",
   "name": "python",
   "nbconvert_exporter": "python",
   "pygments_lexer": "ipython3",
   "version": "3.8.10"
  },
  "orig_nbformat": 4
 },
 "nbformat": 4,
 "nbformat_minor": 2
}
