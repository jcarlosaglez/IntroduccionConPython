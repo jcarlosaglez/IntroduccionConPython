{
 "cells": [
  {
   "cell_type": "code",
   "execution_count": 87,
   "metadata": {},
   "outputs": [
    {
     "data": {
      "text/plain": [
       "'The Moon has no atmosphere.No sound can be heard on the Moon.'"
      ]
     },
     "execution_count": 87,
     "metadata": {},
     "output_type": "execute_result"
    }
   ],
   "source": [
    "# Las cadenas no son mutables aunque lo parezca\n",
    "fact = 'The Moon has no atmosphere.'\n",
    "fact + 'No sound can be heard on the Moon.'"
   ]
  },
  {
   "cell_type": "code",
   "execution_count": 88,
   "metadata": {},
   "outputs": [
    {
     "data": {
      "text/plain": [
       "'The Moon has no atmosphere.'"
      ]
     },
     "execution_count": 88,
     "metadata": {},
     "output_type": "execute_result"
    }
   ],
   "source": [
    "fact"
   ]
  },
  {
   "cell_type": "code",
   "execution_count": 89,
   "metadata": {},
   "outputs": [
    {
     "data": {
      "text/plain": [
       "'The Moon has no atmosphere.No sound can be heard on the Moon.'"
      ]
     },
     "execution_count": 89,
     "metadata": {},
     "output_type": "execute_result"
    }
   ],
   "source": [
    "two_facts = fact + 'No sound can be heard on the Moon.'\n",
    "two_facts"
   ]
  },
  {
   "cell_type": "markdown",
   "metadata": {},
   "source": [
    "# Formas de escribir cadenas\n",
    "## 1.- Con comillas simples o dobles\n",
    "str1 = 'Contenido ...'\n",
    "str2 = \"Contenido ...\"\n",
    "## 2.- Si se utilizan comillas dobles o simples dentro del texto se alternan\n",
    "str3 = 'Contenido \"alternado\" ...'\n",
    "str4 = \"Content about Moon's surface ...\"\n",
    "## 3.- Si el contenido contiene comillas dobles y simples dentro se utilizan comillas triples\n",
    "str5 = \"\"\"Content about the \"Near side\" of the Moon and the Moon's surface ...\"\"\"\n",
    "## Si no se alterna el uso de comillas se puede generar un error de sintaxis\n"
   ]
  },
  {
   "cell_type": "code",
   "execution_count": 90,
   "metadata": {},
   "outputs": [
    {
     "name": "stdout",
     "output_type": "stream",
     "text": [
      "Facts about the Moon: There is no atmosphere. There is no sound.\n",
      "Facts about the Moon:\n",
      "There is no atmosphere.\n",
      "There is no sound.\n",
      "Facts about the Moon:\n",
      "There is no atmosphere.\n",
      "There is no sound.\n"
     ]
    }
   ],
   "source": [
    "# Contenido multilinea\n",
    "# Se puede utilizar el carácter de nueva linea -> \\n o escribirlo dentro de comillas triples -> \"\"\" Contenido ... \"\"\"\n",
    "\n",
    "simple = \"Facts about the Moon: There is no atmosphere. There is no sound.\"\n",
    "print(simple)\n",
    "\n",
    "multiline1 = \"Facts about the Moon:\\nThere is no atmosphere.\\nThere is no sound.\"\n",
    "print(multiline1)\n",
    "\n",
    "multiline2 = \"\"\"Facts about the Moon:\n",
    "There is no atmosphere.\n",
    "There is no sound.\"\"\"\n",
    "print(multiline2)"
   ]
  },
  {
   "cell_type": "code",
   "execution_count": 91,
   "metadata": {},
   "outputs": [
    {
     "name": "stdout",
     "output_type": "stream",
     "text": [
      "Este Es Un Titulo\n",
      "Este Es Otro Titulo\n",
      "['Daylight:', '260', 'F', '...', 'Nighttime:', '-280', 'F']\n",
      "['Daylight: 260 F', '... Nighttime: -280 F']\n",
      "False\n",
      "True\n",
      "-1\n",
      "68\n",
      "0\n",
      "1\n",
      "saturn has a daytime temperature of -170 degrees celsius,\n",
      "... while mars has -28 celsius.\n",
      "SATURN HAS A DAYTIME TEMPERATURE OF -170 DEGREES CELSIUS,\n",
      "... WHILE MARS HAS -28 CELSIUS.\n",
      "['Mars Average Temperature', ' -60 C']\n",
      " -60 C\n",
      "30\n"
     ]
    }
   ],
   "source": [
    "# Métodos de string en Python\n",
    "\n",
    "print(\"este es un titulo\".title())\n",
    "\n",
    "title = 'este es otro titulo'\n",
    "print(title.title())\n",
    "\n",
    "# El método split() divide las cadenas, si no se le pasa ningun argumento esté las separa por espacios\n",
    "temperatures = '''Daylight: 260 F\n",
    "... Nighttime: -280 F'''\n",
    "print(temperatures.split())\n",
    "\n",
    "print(temperatures.split('\\n'))\n",
    "\n",
    "# Busqueda, la forma rápida no necesita de un método\n",
    "print('Moon' in 'This text will describe facts and challenges with space travel')\n",
    "print('Moon' in 'This text will describe facts about the Moon')\n",
    "\n",
    "# Al utilizar el metodo find() para buscar este te devuelve -1 si no encuentra el texto, de lo contrario devuelve la posición en la que se encontro\n",
    "temperatures = \"\"\"Saturn has a daytime temperature of -170 degrees Celsius,\n",
    "... while Mars has -28 Celsius.\"\"\"\n",
    "print(temperatures.find('Moon'))\n",
    "print(temperatures.find('Mars'))\n",
    "\n",
    "# Contar apariciones de un texto\n",
    "print(temperatures.count('Moon'))\n",
    "print(temperatures.count('Mars'))\n",
    "\n",
    "# Alterar texto de mayúsculas a minúsculas\n",
    "print(temperatures.lower())\n",
    "print(temperatures.upper())\n",
    "\n",
    "# Comprobar el contenido estructurado\n",
    "temperatures = 'Mars Average Temperature: -60 C'\n",
    "parts = temperatures.split(':') # Separar la cadena por el cáracter ':'\n",
    "print(parts)\n",
    "print(parts[-1]) # Obtener el último elemento del arreglo que se separó\n",
    "\n",
    "# Para contenido no estructurado\n",
    "mars_temperature = 'The highest temperature on Mars is about 30 C'\n",
    "for item in mars_temperature.split():\n",
    "    if item.isnumeric():\n",
    "        print(item)\n",
    "\n",
    "# isdecimal(), startswith(), endswith() nos pueden ayudar en la busqueda\n"
   ]
  },
  {
   "cell_type": "code",
   "execution_count": 92,
   "metadata": {},
   "outputs": [
    {
     "name": "stdout",
     "output_type": "stream",
     "text": [
      "bbbbAAA\n",
      "False\n",
      "True\n",
      "The Moon is drifting away from the Earth.\n",
      "On average, the Moon is moving about 4cm every year\n",
      "On the Moon, you would weigh about 1/6 of your weight on Earth\n",
      "Both sides of the Moon 1 get the same amount of sunlight,\n",
      "    but only one side is seen from Earth 2 because\n",
      "    the Moon 3 rotates around its own axis when it orbits Earth 4.\n",
      "On the Moon, you would weigh about 1/6 of your weight on Earth\n",
      "You are lighter on the Moon, because on the Moon \n",
      "... you would weigh about 1/6 of your weight on Earth\n",
      "You are lighter on the Moon, because on the Moon \n",
      "... you would weigh about 1/6 of your weight on Earth\n",
      "On the Moon, you would weigh about 1/6 of your weight on Earth\n",
      "On the Moon, you would weigh about 16.7% of your weight on Earth\n"
     ]
    }
   ],
   "source": [
    "# El método replace() puede cambiar el contenido en una cadena diferenciando de mayúsculas y minúsculas\n",
    "str = 'aaaaAAA'\n",
    "print(str.replace('a', 'b'))\n",
    "\n",
    "# el método lower() nos puede ayudar a buscar textos\n",
    "text = 'Temperatures on the Moon can vary wildly.'\n",
    "print('temperatures' in text)\n",
    "print('temperatures' in text.lower())\n",
    "\n",
    "# join() para unir elementos de un iterable\n",
    "moon_facts = ['The Moon is drifting away from the Earth.', 'On average, the Moon is moving about 4cm every year']\n",
    "print('\\n'.join(moon_facts)) # El método join necesita de una cadena para mostrar el resultado\n",
    "\n",
    "# Dar formato a cadenas utilizando -> % dentro del método print()\n",
    "mass_percentage = '1/6'\n",
    "print('On the Moon, you would weigh about %s of your weight on Earth' % mass_percentage)\n",
    "\n",
    "# Para mostrar multiples variables estás se pasan dentro de paréntesis y se utilizan en orden\n",
    "print(\"\"\"Both sides of the %s get the same amount of sunlight,\n",
    "    but only one side is seen from %s because\n",
    "    the %s rotates around its own axis when it orbits %s.\"\"\" % ('Moon 1', 'Earth 2', 'Moon 3', 'Earth 4'))\n",
    "\n",
    "# Lo anterior queda poco claro cuando se trata de múltiples variables, para esto se utiliza el metodo format()\n",
    "mass_percentage = '1/6'\n",
    "print('On the Moon, you would weigh about {} of your weight on Earth'.format(mass_percentage)) # Para una sola variable las llaves pueden ir vacías\n",
    "print(\"\"\"You are lighter on the {0}, because on the {0} \n",
    "... you would weigh about {1} of your weight on Earth\"\"\".format(\"Moon\", mass_percentage)) # Para multiples variabes las llaves contienen la posición de la variable dentro del método format()\n",
    "\n",
    "# Otra forma que se puede utilizar el método format() es poniendo dentro de las llaves el nombre de la variable y en el método format() asignarles el valor a utilizar\n",
    "print(\"\"\"You are lighter on the {moon}, because on the {moon} \n",
    "... you would weigh about {mass} of your weight on Earth\"\"\".format(moon=\"Moon\", mass=mass_percentage))\n",
    "\n",
    "# A partir de la version 3.6 de Python se puede utilizar f-strings \n",
    "print(f'On the Moon, you would weigh about {mass_percentage} of your weight on Earth')\n",
    "\n",
    "# También con las f-strings se pueden utilizar expresiones dentro de las llaves\n",
    "print(f'On the Moon, you would weigh about {round(100/6, 1)}% of your weight on Earth')\n",
    "\n",
    "\n"
   ]
  }
 ],
 "metadata": {
  "interpreter": {
   "hash": "f6adc4aa0776d301271030e4867bb375eeb831bf4bb279863964d1fdc6f5390b"
  },
  "kernelspec": {
   "display_name": "Python 3.8.10 64-bit (windows store)",
   "language": "python",
   "name": "python3"
  },
  "language_info": {
   "codemirror_mode": {
    "name": "ipython",
    "version": 3
   },
   "file_extension": ".py",
   "mimetype": "text/x-python",
   "name": "python",
   "nbconvert_exporter": "python",
   "pygments_lexer": "ipython3",
   "version": "3.8.10"
  },
  "orig_nbformat": 4
 },
 "nbformat": 4,
 "nbformat_minor": 2
}
