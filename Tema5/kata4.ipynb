{
 "cells": [
  {
   "cell_type": "markdown",
   "metadata": {},
   "source": [
    "## Ej 1"
   ]
  },
  {
   "cell_type": "code",
   "execution_count": 99,
   "metadata": {},
   "outputs": [],
   "source": [
    "text = \"\"\"Interesting facts about the Moon. The Moon is Earth's only satellite. There are several interesting facts about the Moon and how it affects life here on Earth. \n",
    "On average, the Moon moves 4cm away from the Earth every year. This yearly drift is not significant enough to cause immediate effects on Earth. The highest daylight temperature of the Moon is 127 C.\"\"\""
   ]
  },
  {
   "cell_type": "code",
   "execution_count": 100,
   "metadata": {},
   "outputs": [
    {
     "name": "stdout",
     "output_type": "stream",
     "text": [
      "['Interesting facts about the Moon', \" The Moon is Earth's only satellite\", ' There are several interesting facts about the Moon and how it affects life here on Earth', ' \\nOn average, the Moon moves 4cm away from the Earth every year', ' This yearly drift is not significant enough to cause immediate effects on Earth', ' The highest daylight temperature of the Moon is 127 C', '']\n"
     ]
    }
   ],
   "source": [
    "# Dividir el contenido en oraciones\n",
    "facts = text.split('.')\n",
    "print(facts)"
   ]
  },
  {
   "cell_type": "code",
   "execution_count": 101,
   "metadata": {},
   "outputs": [],
   "source": [
    "# Definir palabras claves para su busqueda\n",
    "keywords = ['average', 'temperature', 'distance']"
   ]
  },
  {
   "cell_type": "code",
   "execution_count": 102,
   "metadata": {},
   "outputs": [
    {
     "name": "stdout",
     "output_type": "stream",
     "text": [
      "Facts with the keyword \"average\"\n",
      "- \n",
      "On average, the Moon moves 4cm away from the Earth every year\n",
      "Facts with the keyword \"temperature\"\n",
      "- The highest daylight temperature of the Moon is 127 C\n",
      "Facts with the keyword \"distance\"\n",
      "-Facts not found with the keyword.\n"
     ]
    }
   ],
   "source": [
    "# Imprimir los facts que contengan las keywords\n",
    "for keyword in keywords:\n",
    "\tprint(f'Facts with the keyword \"{keyword}\"')\n",
    "\ti = 0\n",
    "\tfor fact in facts:\n",
    "\t\tif keyword in fact:\n",
    "\t\t\ti += 1\n",
    "\t\t\tprint(f'-{fact}')\n",
    "\tif(i == 0):\n",
    "\t\tprint('-Facts not found with the keyword.')\n"
   ]
  },
  {
   "cell_type": "code",
   "execution_count": 103,
   "metadata": {},
   "outputs": [
    {
     "name": "stdout",
     "output_type": "stream",
     "text": [
      "Facts with the keyword \"average\"\n",
      "- \n",
      "On average, the Moon moves 4cm away from the Earth every year\n",
      "Facts with the keyword \"temperature\"\n",
      "- The highest daylight temperature of the Moon is 127 Celsius\n",
      "Facts with the keyword \"distance\"\n",
      "-Facts not found with the keyword.\n"
     ]
    }
   ],
   "source": [
    "# Cambiar C a Celsius\n",
    "for keyword in keywords:\n",
    "\tprint(f'Facts with the keyword \"{keyword}\"')\n",
    "\ti = 0\n",
    "\tfor fact in facts:\n",
    "\t\tif keyword in fact:\n",
    "\t\t\ti += 1\n",
    "\t\t\tprint(f\"-{fact.replace('C', 'Celsius')}\")\n",
    "\tif(i == 0):\n",
    "\t\tprint('-Facts not found with the keyword.')"
   ]
  },
  {
   "cell_type": "markdown",
   "metadata": {},
   "source": [
    "## Ej 2"
   ]
  },
  {
   "cell_type": "code",
   "execution_count": 104,
   "metadata": {},
   "outputs": [],
   "source": [
    "# Datos con los que vas a trabajar\n",
    "name = \"Moon\"\n",
    "gravity = 0.00162 # in kms\n",
    "planet = \"Earth\""
   ]
  },
  {
   "cell_type": "code",
   "execution_count": 105,
   "metadata": {},
   "outputs": [],
   "source": [
    "# Crear titulo\n",
    "title = f\"gravity facts about {name}\".title()"
   ]
  },
  {
   "cell_type": "code",
   "execution_count": 106,
   "metadata": {},
   "outputs": [],
   "source": [
    "# Crear la plantilla\n",
    "template = f\"\"\"\n",
    "-----------------------------------------------------------\n",
    "Planet Name: {planet}\n",
    "Gravity on {name}: {gravity * 1000} m/s2\n",
    "\"\"\""
   ]
  },
  {
   "cell_type": "code",
   "execution_count": 107,
   "metadata": {},
   "outputs": [
    {
     "name": "stdout",
     "output_type": "stream",
     "text": [
      "Gravity Facts About Moon\n",
      "-----------------------------------------------------------\n",
      "Planet Name: Earth\n",
      "Gravity on Moon: 1.6199999999999999 m/s2\n",
      "\n"
     ]
    }
   ],
   "source": [
    "fullTemplate = title + template\n",
    "print(fullTemplate)"
   ]
  },
  {
   "cell_type": "code",
   "execution_count": 108,
   "metadata": {},
   "outputs": [
    {
     "name": "stdout",
     "output_type": "stream",
     "text": [
      "Gravity Facts About Moon\n",
      "-----------------------------------------------------------\n",
      "Planet Name: Earth\n",
      "Gravity on Moon: 1.6199999999999999 m/s2\n",
      "\n"
     ]
    }
   ],
   "source": [
    "planet = 'Marte '\n",
    "gravity  = 0.00143\n",
    "name = 'Ganímedes'\n",
    "\n",
    "print(fullTemplate)"
   ]
  },
  {
   "cell_type": "code",
   "execution_count": 109,
   "metadata": {},
   "outputs": [
    {
     "name": "stdout",
     "output_type": "stream",
     "text": [
      "Gravity Facts About Ganímedes\n",
      "-----------------------------------------------------------\n",
      "Planet Name: Marte \n",
      "Gravity on Ganímedes: 1.4300000000000002 m/s2\n",
      "\n"
     ]
    }
   ],
   "source": [
    "gravityInM = gravity * 1000\n",
    "template2 = \"\"\"Gravity Facts About {name}\n",
    "-----------------------------------------------------------\n",
    "Planet Name: {planet}\n",
    "Gravity on {name}: {gravity} m/s2\n",
    "\"\"\"\n",
    "print(template2.format(planet = planet, name = name, gravity = gravityInM))"
   ]
  }
 ],
 "metadata": {
  "interpreter": {
   "hash": "f6adc4aa0776d301271030e4867bb375eeb831bf4bb279863964d1fdc6f5390b"
  },
  "kernelspec": {
   "display_name": "Python 3.8.10 64-bit (windows store)",
   "language": "python",
   "name": "python3"
  },
  "language_info": {
   "codemirror_mode": {
    "name": "ipython",
    "version": 3
   },
   "file_extension": ".py",
   "mimetype": "text/x-python",
   "name": "python",
   "nbconvert_exporter": "python",
   "pygments_lexer": "ipython3",
   "version": "3.8.10"
  },
  "orig_nbformat": 4
 },
 "nbformat": 4,
 "nbformat_minor": 2
}
