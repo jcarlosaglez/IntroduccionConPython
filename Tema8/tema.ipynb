{
 "cells": [
  {
   "cell_type": "code",
   "execution_count": 1,
   "metadata": {},
   "outputs": [],
   "source": [
    "userInput = ''\n",
    "while userInput.lower() != 'done':\n",
    "\tuserInput = input(\"Ingresa un valor o 'done' para terminar\")"
   ]
  },
  {
   "cell_type": "code",
   "execution_count": 2,
   "metadata": {},
   "outputs": [],
   "source": [
    "userInput = ''\n",
    "inputs = []\n",
    "\n",
    "while userInput != 'done':\n",
    "\tif userInput:\n",
    "\t\tinputs.append(userInput)\n",
    "\tuserInput = input(\"Ingresa un valor o 'done' para terminar\")\n",
    "\n",
    "print(inputs)"
   ]
  },
  {
   "cell_type": "code",
   "execution_count": 5,
   "metadata": {},
   "outputs": [],
   "source": [
    "planets = [\"Mercury\", \"Venus\", \"Earth\", \"Mars\", \"Jupiter\", \"Saturn\", \"Uranus\", \"Neptune\"]"
   ]
  },
  {
   "cell_type": "code",
   "execution_count": 9,
   "metadata": {},
   "outputs": [
    {
     "name": "stdout",
     "output_type": "stream",
     "text": [
      "Mercury\n",
      "Venus\n",
      "Earth\n",
      "Mars\n",
      "Jupiter\n",
      "Saturn\n",
      "Uranus\n",
      "Neptune\n",
      "Mercury\n",
      "Venus\n",
      "Earth\n",
      "Mars\n",
      "Jupiter\n",
      "Saturn\n",
      "Uranus\n",
      "Neptune\n"
     ]
    }
   ],
   "source": [
    "lengthOfPlantes = len(planets)\n",
    "\n",
    "i = 0\n",
    "while i<lengthOfPlantes:\n",
    "\tprint(planets[i])\n",
    "\ti += 1\n",
    "\n",
    "for planet in planets:\n",
    "\tprint(planet)"
   ]
  },
  {
   "cell_type": "code",
   "execution_count": 11,
   "metadata": {},
   "outputs": [
    {
     "name": "stdout",
     "output_type": "stream",
     "text": [
      "4\n",
      "3\n",
      "2\n",
      "1\n",
      "0\n",
      "Blast off!! 🚀\n"
     ]
    }
   ],
   "source": [
    "from time import sleep\n",
    "\n",
    "countdown = [4, 3, 2, 1, 0]\n",
    "\n",
    "for number in countdown:\n",
    "\tprint(number)\n",
    "\tsleep(1)\n",
    "\n",
    "print(\"Blast off!! 🚀\")"
   ]
  }
 ],
 "metadata": {
  "interpreter": {
   "hash": "f6adc4aa0776d301271030e4867bb375eeb831bf4bb279863964d1fdc6f5390b"
  },
  "kernelspec": {
   "display_name": "Python 3.8.10 64-bit (windows store)",
   "language": "python",
   "name": "python3"
  },
  "language_info": {
   "codemirror_mode": {
    "name": "ipython",
    "version": 3
   },
   "file_extension": ".py",
   "mimetype": "text/x-python",
   "name": "python",
   "nbconvert_exporter": "python",
   "pygments_lexer": "ipython3",
   "version": "3.8.10"
  },
  "orig_nbformat": 4
 },
 "nbformat": 4,
 "nbformat_minor": 2
}
