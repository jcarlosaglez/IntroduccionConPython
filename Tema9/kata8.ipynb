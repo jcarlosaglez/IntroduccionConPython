{
 "cells": [
  {
   "cell_type": "markdown",
   "metadata": {},
   "source": [
    "# Ejercicio 1"
   ]
  },
  {
   "cell_type": "code",
   "execution_count": 18,
   "metadata": {},
   "outputs": [],
   "source": [
    "planet = {\n",
    "\t'name': 'Mars',\n",
    "\t'moons': 2\n",
    "}"
   ]
  },
  {
   "cell_type": "code",
   "execution_count": 19,
   "metadata": {},
   "outputs": [
    {
     "name": "stdout",
     "output_type": "stream",
     "text": [
      "Nombre del planeta: Mars\n",
      "Número de lunas: 2\n"
     ]
    }
   ],
   "source": [
    "print(f\"Nombre del planeta: {planet.get('name')}\")\n",
    "print(f\"Número de lunas: {planet['moons']}\")"
   ]
  },
  {
   "cell_type": "code",
   "execution_count": 20,
   "metadata": {},
   "outputs": [],
   "source": [
    "planet.update({\n",
    "\t'moons' : 5\n",
    "})\n",
    "\n",
    "planet['name'] = 'Otro planeta'"
   ]
  },
  {
   "cell_type": "code",
   "execution_count": 21,
   "metadata": {},
   "outputs": [
    {
     "name": "stdout",
     "output_type": "stream",
     "text": [
      "Nombre del planeta: Otro planeta\n",
      "Número de lunas: 5\n"
     ]
    }
   ],
   "source": [
    "print(f\"Nombre del planeta: {planet.get('name')}\")\n",
    "print(f\"Número de lunas: {planet['moons']}\")"
   ]
  },
  {
   "cell_type": "code",
   "execution_count": 22,
   "metadata": {},
   "outputs": [],
   "source": [
    "planet.update({\n",
    "\t'circunferencia (km)' : {\n",
    "\t\t'polar': 6752,\n",
    "\t\t'equatorial': 6792\n",
    "\t}\n",
    "})\n",
    "\n",
    "#planet['circunferencia (km)'] = {'polar': 6752, 'equatorial': 6792}"
   ]
  },
  {
   "cell_type": "code",
   "execution_count": 23,
   "metadata": {},
   "outputs": [
    {
     "name": "stdout",
     "output_type": "stream",
     "text": [
      "Nombre del planeta: Otro planeta\n",
      "Número de lunas: {'polar': 6752, 'equatorial': 6792}\n"
     ]
    }
   ],
   "source": [
    "print(f\"Nombre del planeta: {planet.get('name')}\")\n",
    "print(f\"Número de lunas: {planet['circunferencia (km)']}\")"
   ]
  },
  {
   "cell_type": "markdown",
   "metadata": {},
   "source": [
    "# Ejercicio 2"
   ]
  },
  {
   "cell_type": "code",
   "execution_count": 24,
   "metadata": {},
   "outputs": [],
   "source": [
    "# Planets and moons\n",
    "\n",
    "planet_moons = {\n",
    "    'mercury': 0,\n",
    "    'venus': 0,\n",
    "    'earth': 1,\n",
    "    'mars': 2,\n",
    "    'jupiter': 79,\n",
    "    'saturn': 82,\n",
    "    'uranus': 27,\n",
    "    'neptune': 14,\n",
    "    'pluto': 5,\n",
    "    'haumea': 2,\n",
    "    'makemake': 1,\n",
    "    'eris': 1\n",
    "}"
   ]
  },
  {
   "cell_type": "code",
   "execution_count": 27,
   "metadata": {},
   "outputs": [
    {
     "name": "stdout",
     "output_type": "stream",
     "text": [
      "Número total de lunas en el sistema solar: 214\n",
      "Promedio de lunas por planeta: 17.833333333333332\n"
     ]
    }
   ],
   "source": [
    "moons = planet_moons.values()\n",
    "planets = len(planet_moons.keys())\n",
    "\n",
    "totalMoons = 0\n",
    "\n",
    "for moon in moons:\n",
    "\ttotalMoons += moon\n",
    "\n",
    "print(f'Número total de lunas en el sistema solar: {totalMoons}')\n",
    "print(f'Promedio de lunas por planeta: {totalMoons / planets}')"
   ]
  }
 ],
 "metadata": {
  "interpreter": {
   "hash": "f6adc4aa0776d301271030e4867bb375eeb831bf4bb279863964d1fdc6f5390b"
  },
  "kernelspec": {
   "display_name": "Python 3.8.10 64-bit (windows store)",
   "language": "python",
   "name": "python3"
  },
  "language_info": {
   "codemirror_mode": {
    "name": "ipython",
    "version": 3
   },
   "file_extension": ".py",
   "mimetype": "text/x-python",
   "name": "python",
   "nbconvert_exporter": "python",
   "pygments_lexer": "ipython3",
   "version": "3.8.10"
  },
  "orig_nbformat": 4
 },
 "nbformat": 4,
 "nbformat_minor": 2
}
