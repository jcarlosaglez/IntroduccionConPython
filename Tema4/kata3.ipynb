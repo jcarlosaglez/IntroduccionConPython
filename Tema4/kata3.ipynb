{
 "cells": [
  {
   "cell_type": "markdown",
   "metadata": {},
   "source": [
    "# Ejercicio 1"
   ]
  },
  {
   "cell_type": "code",
   "execution_count": 1,
   "metadata": {},
   "outputs": [
    {
     "name": "stdout",
     "output_type": "stream",
     "text": [
      "Advertencia: Un asteroide se acerca a gran velocidad!\n"
     ]
    }
   ],
   "source": [
    "velocidadAsteroide = 49 # km/s\n",
    "\n",
    "if velocidadAsteroide > 25:\n",
    "\tprint('¡Advertencia: Un asteroide se acerca a gran velocidad!')\n",
    "else:\n",
    "\tprint('Sin novedad.')"
   ]
  },
  {
   "cell_type": "markdown",
   "metadata": {},
   "source": [
    "# Ejercicio 2"
   ]
  },
  {
   "cell_type": "code",
   "execution_count": 10,
   "metadata": {},
   "outputs": [
    {
     "name": "stdout",
     "output_type": "stream",
     "text": [
      "Un asteroide entró a la atmosfera de la tierra pero no será visible.\n"
     ]
    }
   ],
   "source": [
    "velocidadAsteroide = 19 # km/s\n",
    "\n",
    "if velocidadAsteroide > 20:\n",
    "\tprint('Un asteroide esta entrando a la tierra y producira un rayo de luz visible.')\n",
    "elif velocidadAsteroide == 20:\n",
    "\tprint('Un asteroide esta entrando a la tierra y producira un rayo de luz visible.')\n",
    "else:\n",
    "\tprint('Un asteroide entró a la atmosfera de la tierra pero no será visible.')"
   ]
  },
  {
   "cell_type": "markdown",
   "metadata": {},
   "source": [
    "# Ejercicio 3"
   ]
  },
  {
   "cell_type": "code",
   "execution_count": 19,
   "metadata": {},
   "outputs": [
    {
     "name": "stdout",
     "output_type": "stream",
     "text": [
      "Avistamiento de un asteroide peligroso\n"
     ]
    }
   ],
   "source": [
    "velocidadAsteroide = 11 # km/s\n",
    "tamanioAsteroide = 25 # metros\n",
    "\n",
    "if velocidadAsteroide > 25 and tamanioAsteroide >= 25:\n",
    "\tprint('¡Advertencia: Un asteroide se acerca a gran velocidad y es muy peligroso!')\n",
    "elif velocidadAsteroide > 25 and tamanioAsteroide < 25:\n",
    "\tprint('¡Advertencia: Un asteroide se acerca a gran velocidad pero se destruira al entrar a la atmosfera.')\n",
    "elif velocidadAsteroide >= 20:\n",
    "\tif tamanioAsteroide >= 25:\n",
    "\t\tprint('Un asteroide muy peligroso entró a la atmosfera de la tierra y producira un rayo de luz visible.')\n",
    "\telse:\n",
    "\t\tprint('Un asteroide entró a la atmosfera de la tierra y producira un rayo de luz visible.')\n",
    "elif tamanioAsteroide >= 25:\n",
    "\tprint('Avistamiento de un asteroide peligroso')\n",
    "else:\n",
    "\tprint('Sin novedad.')"
   ]
  }
 ],
 "metadata": {
  "interpreter": {
   "hash": "f6adc4aa0776d301271030e4867bb375eeb831bf4bb279863964d1fdc6f5390b"
  },
  "kernelspec": {
   "display_name": "Python 3.8.10 64-bit (windows store)",
   "language": "python",
   "name": "python3"
  },
  "language_info": {
   "codemirror_mode": {
    "name": "ipython",
    "version": 3
   },
   "file_extension": ".py",
   "mimetype": "text/x-python",
   "name": "python",
   "nbconvert_exporter": "python",
   "pygments_lexer": "ipython3",
   "version": "3.8.10"
  },
  "orig_nbformat": 4
 },
 "nbformat": 4,
 "nbformat_minor": 2
}
